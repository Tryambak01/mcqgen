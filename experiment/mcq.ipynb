{
 "cells": [
  {
   "cell_type": "code",
   "execution_count": 1,
   "metadata": {},
   "outputs": [],
   "source": [
    "import os\n",
    "import json\n",
    "import traceback\n",
    "import pandas as pd"
   ]
  },
  {
   "cell_type": "code",
   "execution_count": 2,
   "metadata": {},
   "outputs": [
    {
     "data": {
      "text/plain": [
       "True"
      ]
     },
     "execution_count": 2,
     "metadata": {},
     "output_type": "execute_result"
    }
   ],
   "source": [
    "from langchain.chat_models import ChatOpenAI\n",
    "from dotenv import load_dotenv\n",
    "\n",
    "load_dotenv()     #loads environment variables from .env file"
   ]
  },
  {
   "cell_type": "code",
   "execution_count": 3,
   "metadata": {},
   "outputs": [
    {
     "name": "stderr",
     "output_type": "stream",
     "text": [
      "/Users/tryambakadiga/Desktop/mcqgen/name/lib/python3.8/site-packages/langchain_core/_api/deprecation.py:119: LangChainDeprecationWarning: The class `ChatOpenAI` was deprecated in LangChain 0.0.10 and will be removed in 0.3.0. An updated version of the class exists in the langchain-openai package and should be used instead. To use it run `pip install -U langchain-openai` and import as `from langchain_openai import ChatOpenAI`.\n",
      "  warn_deprecated(\n"
     ]
    },
    {
     "name": "stdout",
     "output_type": "stream",
     "text": [
      "sk-proj-k5TEr3m3x1Urpf8PAa4YT3BlbkFJsLPzDOA933orb5x14HBw\n"
     ]
    }
   ],
   "source": [
    "KEY = os.getenv(\"OPEN_API_KEY\")\n",
    "llm = ChatOpenAI(openai_api_key = KEY, model_name = \"gpt-3.5-turbo\", temperature = 0.5)"
   ]
  },
  {
   "cell_type": "code",
   "execution_count": 4,
   "metadata": {},
   "outputs": [],
   "source": [
    "from langchain.llms import OpenAI\n",
    "from langchain.prompts import PromptTemplate\n",
    "from langchain.chains import LLMChain\n",
    "from langchain.chains import SequentialChain\n",
    "from langchain.callbacks import get_openai_callback\n",
    "import PyPDF2"
   ]
  },
  {
   "cell_type": "code",
   "execution_count": 5,
   "metadata": {},
   "outputs": [],
   "source": [
    "RESPONSE_JSON = {\n",
    "    \"1\":{\n",
    "        \"mcq\" : \"multiple choice question\",\n",
    "        \"options\" : {\n",
    "            \"a\" : \"choice here\",\n",
    "            \"b\" : \"choice here\",\n",
    "            \"c\" : \"choice here\",\n",
    "            \"d\" : \"choice here\",\n",
    "        },\n",
    "        \"correct\" : \"correct answer\",\n",
    "    },\n",
    "    \"2\":{\n",
    "        \"mcq\" : \"multiple choice question\",\n",
    "        \"options\" : {\n",
    "            \"a\" : \"choice here\",\n",
    "            \"b\" : \"choice here\",\n",
    "            \"c\" : \"choice here\",\n",
    "            \"d\" : \"choice here\",\n",
    "        },\n",
    "        \"correct\" : \"correct answer\",\n",
    "    },\n",
    "    \"3\":{\n",
    "        \"mcq\" : \"multiple choice question\",\n",
    "        \"options\" : {\n",
    "            \"a\" : \"choice here\",\n",
    "            \"b\" : \"choice here\",\n",
    "            \"c\" : \"choice here\",\n",
    "            \"d\" : \"choice here\",\n",
    "        },\n",
    "        \"correct\" : \"correct answer\",\n",
    "    },\n",
    "}"
   ]
  },
  {
   "cell_type": "code",
   "execution_count": 6,
   "metadata": {},
   "outputs": [],
   "source": [
    "TEMPLATE = \"\"\"\n",
    "Text : {text}\n",
    "You are an expert MCQ maker , given the above text, it is your job to create a quiz of {number} of multiple choice\n",
    "questions {subject} students in {tone} tone.\n",
    "Make sure the questions are not repeated and check all the questions to be conforming of the text.\n",
    "Make sure to format your response like RESPONSE_JSON below and use it as a guide\n",
    "Ensure to make {number} MCQs\n",
    "### RESPONSE_JSON\n",
    "{response_json}\n",
    "\n",
    "\"\"\""
   ]
  },
  {
   "cell_type": "code",
   "execution_count": 7,
   "metadata": {},
   "outputs": [],
   "source": [
    "quiz_generation_prompt = PromptTemplate(\n",
    "    input_variables = [\"text\", \"number\", \"subject\", \"tone\", \"response_json\"],\n",
    "    template = TEMPLATE \n",
    ")"
   ]
  },
  {
   "cell_type": "code",
   "execution_count": 8,
   "metadata": {},
   "outputs": [
    {
     "name": "stderr",
     "output_type": "stream",
     "text": [
      "/Users/tryambakadiga/Desktop/mcqgen/name/lib/python3.8/site-packages/langchain_core/_api/deprecation.py:119: LangChainDeprecationWarning: The class `LLMChain` was deprecated in LangChain 0.1.17 and will be removed in 0.3.0. Use RunnableSequence, e.g., `prompt | llm` instead.\n",
      "  warn_deprecated(\n"
     ]
    }
   ],
   "source": [
    "quiz_chain = LLMChain(llm = llm, prompt = quiz_generation_prompt, output_key= \"quiz\", verbose = True)"
   ]
  },
  {
   "cell_type": "code",
   "execution_count": 9,
   "metadata": {},
   "outputs": [],
   "source": [
    "TEMPLATE_2 = \"\"\"\n",
    "You are an expert english grammarian and writer , Given a multiple choice quiz on {subject} students \n",
    "you need to evaluate the complexity of the questions and give a complete analysis of the quiz.\n",
    "Use less than 50 words for the analysis. If the quiz is not at par with the cognitive abilities of the students then change \n",
    "the tone such that it perfectly fits the student's abilities\n",
    "QUIZ MCQ:\n",
    "{quiz}\n",
    "\n",
    "\"\"\""
   ]
  },
  {
   "cell_type": "code",
   "execution_count": 10,
   "metadata": {},
   "outputs": [],
   "source": [
    "quiz_evaluation_prompt = PromptTemplate(\n",
    "    input_variables = [\"subject\", \"quiz\"],\n",
    "    template = TEMPLATE_2\n",
    ")"
   ]
  },
  {
   "cell_type": "code",
   "execution_count": 11,
   "metadata": {},
   "outputs": [],
   "source": [
    "review_chain = LLMChain(llm = llm, prompt = quiz_evaluation_prompt, output_key = \"review\", verbose = True)"
   ]
  },
  {
   "cell_type": "code",
   "execution_count": 12,
   "metadata": {},
   "outputs": [],
   "source": [
    "generate_evaluate_chain = SequentialChain(\n",
    "    chains = [quiz_chain, review_chain],\n",
    "    input_variables = [\"text\", \"number\", \"subject\", \"tone\", \"response_json\"],\n",
    "    output_variables = [\"quiz\", \"review\"],\n",
    "    verbose = True\n",
    ")"
   ]
  },
  {
   "cell_type": "code",
   "execution_count": 13,
   "metadata": {},
   "outputs": [],
   "source": [
    "# read data from file \n",
    "file_path = r\"/Users/tryambakadiga/Desktop/mcqgen/data.txt\"\n",
    "with open (file_path, 'r') as file:\n",
    "    TEXT = file.read()"
   ]
  },
  {
   "cell_type": "code",
   "execution_count": 14,
   "metadata": {},
   "outputs": [
    {
     "name": "stdout",
     "output_type": "stream",
     "text": [
      "Real Madrid Club de Fútbol (Spanish pronunciation: [reˈal maˈðɾið ˈkluβ ðe ˈfuðβol] ⓘ), commonly referred to as Real Madrid, is a Spanish professional football club based in Madrid. The club competes in La Liga, the top tier of Spanish football.\n",
      "\n",
      "Founded in 1902 as Madrid Football Club, the club has traditionally worn a white home kit since its inception. The honorific title real is Spanish for \"royal\" and was bestowed to the club by King Alfonso XIII in 1920 together with the royal crown in the emblem. Real Madrid have played their home matches in the 85,000-capacity[7] Santiago Bernabéu in central Madrid since 1947. Unlike most European sporting entities, Real Madrid's members (socios) have owned and operated the club throughout its history. The official Madrid anthem is the \"Hala Madrid y nada más\", written by RedOne and Manuel Jabois.[8] The club is one of the most widely supported in the world, and is the most followed football club on social media according to the CIES Football Observatory as of 2023[9][10] and was estimated to be worth $6.6 billion in 2024, making it the world's most valuable football club.[11] In 2024, it was the highest-earning football club in the world, with an annual revenue of €831.4 million.[12]\n",
      "\n",
      "In domestic football, the club has won 71 trophies; a record 36 La Liga titles, 20 Copa del Rey, 13 Supercopa de España, a Copa Eva Duarte and a Copa de la Liga.[13] In International football, Real Madrid have won a record 33 trophies: a record 15 European Cup/UEFA Champions League titles, a joint record five UEFA Super Cups, two UEFA Cups, a joint record two Latin Cups, a record one Iberoamerican Cup, and a record eight FIFA Club World championships.[note 1] Madrid was ranked first in the International Federation of Football History & Statistics Club World Ranking for 2000, 2002, 2014, 2017.[17] In UEFA, Madrid ranks first in the all-time club ranking.[18][19]\n"
     ]
    }
   ],
   "source": [
    "print(TEXT)"
   ]
  },
  {
   "cell_type": "code",
   "execution_count": 15,
   "metadata": {},
   "outputs": [],
   "source": [
    "NUMBER = 5\n",
    "SUBJECT = \"real madrid\"\n",
    "TONE = \"simple\""
   ]
  },
  {
   "cell_type": "code",
   "execution_count": 16,
   "metadata": {},
   "outputs": [
    {
     "name": "stdout",
     "output_type": "stream",
     "text": [
      "\n",
      "\n",
      "\u001b[1m> Entering new SequentialChain chain...\u001b[0m\n",
      "\n",
      "\n",
      "\u001b[1m> Entering new LLMChain chain...\u001b[0m\n",
      "Prompt after formatting:\n",
      "\u001b[32;1m\u001b[1;3m\n",
      "Text : Real Madrid Club de Fútbol (Spanish pronunciation: [reˈal maˈðɾið ˈkluβ ðe ˈfuðβol] ⓘ), commonly referred to as Real Madrid, is a Spanish professional football club based in Madrid. The club competes in La Liga, the top tier of Spanish football.\n",
      "\n",
      "Founded in 1902 as Madrid Football Club, the club has traditionally worn a white home kit since its inception. The honorific title real is Spanish for \"royal\" and was bestowed to the club by King Alfonso XIII in 1920 together with the royal crown in the emblem. Real Madrid have played their home matches in the 85,000-capacity[7] Santiago Bernabéu in central Madrid since 1947. Unlike most European sporting entities, Real Madrid's members (socios) have owned and operated the club throughout its history. The official Madrid anthem is the \"Hala Madrid y nada más\", written by RedOne and Manuel Jabois.[8] The club is one of the most widely supported in the world, and is the most followed football club on social media according to the CIES Football Observatory as of 2023[9][10] and was estimated to be worth $6.6 billion in 2024, making it the world's most valuable football club.[11] In 2024, it was the highest-earning football club in the world, with an annual revenue of €831.4 million.[12]\n",
      "\n",
      "In domestic football, the club has won 71 trophies; a record 36 La Liga titles, 20 Copa del Rey, 13 Supercopa de España, a Copa Eva Duarte and a Copa de la Liga.[13] In International football, Real Madrid have won a record 33 trophies: a record 15 European Cup/UEFA Champions League titles, a joint record five UEFA Super Cups, two UEFA Cups, a joint record two Latin Cups, a record one Iberoamerican Cup, and a record eight FIFA Club World championships.[note 1] Madrid was ranked first in the International Federation of Football History & Statistics Club World Ranking for 2000, 2002, 2014, 2017.[17] In UEFA, Madrid ranks first in the all-time club ranking.[18][19]\n",
      "You are an expert MCQ maker , given the above text, it is your job to create a quiz of 5 of multiple choice\n",
      "questions real madrid students in simple tone.\n",
      "Make sure the questions are not repeated and check all the questions to be conforming of the text.\n",
      "Make sure to format your response like RESPONSE_JSON below and use it as a guide\n",
      "Ensure to make 5 MCQs\n",
      "### RESPONSE_JSON\n",
      "{\"1\": {\"mcq\": \"multiple choice question\", \"options\": {\"a\": \"choice here\", \"b\": \"choice here\", \"c\": \"choice here\", \"d\": \"choice here\"}, \"correct\": \"correct answer\"}, \"2\": {\"mcq\": \"multiple choice question\", \"options\": {\"a\": \"choice here\", \"b\": \"choice here\", \"c\": \"choice here\", \"d\": \"choice here\"}, \"correct\": \"correct answer\"}, \"3\": {\"mcq\": \"multiple choice question\", \"options\": {\"a\": \"choice here\", \"b\": \"choice here\", \"c\": \"choice here\", \"d\": \"choice here\"}, \"correct\": \"correct answer\"}}\n",
      "\n",
      "\u001b[0m\n"
     ]
    },
    {
     "name": "stderr",
     "output_type": "stream",
     "text": [
      "/Users/tryambakadiga/Desktop/mcqgen/name/lib/python3.8/site-packages/langchain_core/_api/deprecation.py:119: LangChainDeprecationWarning: The method `Chain.__call__` was deprecated in langchain 0.1.0 and will be removed in 0.3.0. Use invoke instead.\n",
      "  warn_deprecated(\n"
     ]
    },
    {
     "name": "stdout",
     "output_type": "stream",
     "text": [
      "\n",
      "\u001b[1m> Finished chain.\u001b[0m\n",
      "\n",
      "\n",
      "\u001b[1m> Entering new LLMChain chain...\u001b[0m\n",
      "Prompt after formatting:\n",
      "\u001b[32;1m\u001b[1;3m\n",
      "You are an expert english grammarian and writer , Given a multiple choice quiz on real madrid students \n",
      "you need to evaluate the complexity of the questions and give a complete analysis of the quiz.\n",
      "Use less than 50 words for the analysis. If the quiz is not at par with the cognitive abilities of the students then change \n",
      "the tone such that it perfectly fits the student's abilities\n",
      "QUIZ MCQ:\n",
      "{\n",
      "    \"1\": {\n",
      "        \"mcq\": \"When was Real Madrid Club de Fútbol founded?\",\n",
      "        \"options\": {\n",
      "            \"a\": \"1900\",\n",
      "            \"b\": \"1902\",\n",
      "            \"c\": \"1920\",\n",
      "            \"d\": \"1947\"\n",
      "        },\n",
      "        \"correct\": \"b\"\n",
      "    },\n",
      "    \"2\": {\n",
      "        \"mcq\": \"What is the meaning of the honorific title 'real' in Real Madrid?\",\n",
      "        \"options\": {\n",
      "            \"a\": \"Royal\",\n",
      "            \"b\": \"Great\",\n",
      "            \"c\": \"Strong\",\n",
      "            \"d\": \"Fast\"\n",
      "        },\n",
      "        \"correct\": \"a\"\n",
      "    },\n",
      "    \"3\": {\n",
      "        \"mcq\": \"Where does Real Madrid play their home matches?\",\n",
      "        \"options\": {\n",
      "            \"a\": \"Camp Nou\",\n",
      "            \"b\": \"Santiago Bernabéu\",\n",
      "            \"c\": \"Wembley Stadium\",\n",
      "            \"d\": \"Old Trafford\"\n",
      "        },\n",
      "        \"correct\": \"b\"\n",
      "    },\n",
      "    \"4\": {\n",
      "        \"mcq\": \"How many La Liga titles has Real Madrid won?\",\n",
      "        \"options\": {\n",
      "            \"a\": \"20\",\n",
      "            \"b\": \"30\",\n",
      "            \"c\": \"36\",\n",
      "            \"d\": \"40\"\n",
      "        },\n",
      "        \"correct\": \"c\"\n",
      "    },\n",
      "    \"5\": {\n",
      "        \"mcq\": \"Which anthem is associated with Real Madrid?\",\n",
      "        \"options\": {\n",
      "            \"a\": \"We Will Rock You\",\n",
      "            \"b\": \"Hala Madrid y nada más\",\n",
      "            \"c\": \"Eye of the Tiger\",\n",
      "            \"d\": \"Livin' on a Prayer\"\n",
      "        },\n",
      "        \"correct\": \"b\"\n",
      "    }\n",
      "}\n",
      "\n",
      "\u001b[0m\n",
      "\n",
      "\u001b[1m> Finished chain.\u001b[0m\n",
      "\n",
      "\u001b[1m> Finished chain.\u001b[0m\n"
     ]
    }
   ],
   "source": [
    "with get_openai_callback() as cb:\n",
    "    response = generate_evaluate_chain({\n",
    "        \"text\" : TEXT,\n",
    "        \"number\" : NUMBER,\n",
    "        \"subject\" : SUBJECT,\n",
    "        \"tone\" : TONE,\n",
    "        \"response_json\" : json.dumps(RESPONSE_JSON)\n",
    "    }\n",
    "    )"
   ]
  },
  {
   "cell_type": "code",
   "execution_count": 17,
   "metadata": {},
   "outputs": [
    {
     "name": "stdout",
     "output_type": "stream",
     "text": [
      "Tokens Used: 1592\n",
      "\tPrompt Tokens: 1181\n",
      "\tCompletion Tokens: 411\n",
      "Successful Requests: 2\n",
      "Total Cost (USD): $0.0025935000000000003\n"
     ]
    }
   ],
   "source": [
    "print(cb)"
   ]
  },
  {
   "cell_type": "code",
   "execution_count": 18,
   "metadata": {},
   "outputs": [
    {
     "data": {
      "text/plain": [
       "{'text': 'Real Madrid Club de Fútbol (Spanish pronunciation: [reˈal maˈðɾið ˈkluβ ðe ˈfuðβol] ⓘ), commonly referred to as Real Madrid, is a Spanish professional football club based in Madrid. The club competes in La Liga, the top tier of Spanish football.\\n\\nFounded in 1902 as Madrid Football Club, the club has traditionally worn a white home kit since its inception. The honorific title real is Spanish for \"royal\" and was bestowed to the club by King Alfonso XIII in 1920 together with the royal crown in the emblem. Real Madrid have played their home matches in the 85,000-capacity[7] Santiago Bernabéu in central Madrid since 1947. Unlike most European sporting entities, Real Madrid\\'s members (socios) have owned and operated the club throughout its history. The official Madrid anthem is the \"Hala Madrid y nada más\", written by RedOne and Manuel Jabois.[8] The club is one of the most widely supported in the world, and is the most followed football club on social media according to the CIES Football Observatory as of 2023[9][10] and was estimated to be worth $6.6 billion in 2024, making it the world\\'s most valuable football club.[11] In 2024, it was the highest-earning football club in the world, with an annual revenue of €831.4 million.[12]\\n\\nIn domestic football, the club has won 71 trophies; a record 36 La Liga titles, 20 Copa del Rey, 13 Supercopa de España, a Copa Eva Duarte and a Copa de la Liga.[13] In International football, Real Madrid have won a record 33 trophies: a record 15 European Cup/UEFA Champions League titles, a joint record five UEFA Super Cups, two UEFA Cups, a joint record two Latin Cups, a record one Iberoamerican Cup, and a record eight FIFA Club World championships.[note 1] Madrid was ranked first in the International Federation of Football History & Statistics Club World Ranking for 2000, 2002, 2014, 2017.[17] In UEFA, Madrid ranks first in the all-time club ranking.[18][19]',\n",
       " 'number': 5,\n",
       " 'subject': 'real madrid',\n",
       " 'tone': 'simple',\n",
       " 'response_json': '{\"1\": {\"mcq\": \"multiple choice question\", \"options\": {\"a\": \"choice here\", \"b\": \"choice here\", \"c\": \"choice here\", \"d\": \"choice here\"}, \"correct\": \"correct answer\"}, \"2\": {\"mcq\": \"multiple choice question\", \"options\": {\"a\": \"choice here\", \"b\": \"choice here\", \"c\": \"choice here\", \"d\": \"choice here\"}, \"correct\": \"correct answer\"}, \"3\": {\"mcq\": \"multiple choice question\", \"options\": {\"a\": \"choice here\", \"b\": \"choice here\", \"c\": \"choice here\", \"d\": \"choice here\"}, \"correct\": \"correct answer\"}}',\n",
       " 'quiz': '{\\n    \"1\": {\\n        \"mcq\": \"When was Real Madrid Club de Fútbol founded?\",\\n        \"options\": {\\n            \"a\": \"1900\",\\n            \"b\": \"1902\",\\n            \"c\": \"1920\",\\n            \"d\": \"1947\"\\n        },\\n        \"correct\": \"b\"\\n    },\\n    \"2\": {\\n        \"mcq\": \"What is the meaning of the honorific title \\'real\\' in Real Madrid?\",\\n        \"options\": {\\n            \"a\": \"Royal\",\\n            \"b\": \"Great\",\\n            \"c\": \"Strong\",\\n            \"d\": \"Fast\"\\n        },\\n        \"correct\": \"a\"\\n    },\\n    \"3\": {\\n        \"mcq\": \"Where does Real Madrid play their home matches?\",\\n        \"options\": {\\n            \"a\": \"Camp Nou\",\\n            \"b\": \"Santiago Bernabéu\",\\n            \"c\": \"Wembley Stadium\",\\n            \"d\": \"Old Trafford\"\\n        },\\n        \"correct\": \"b\"\\n    },\\n    \"4\": {\\n        \"mcq\": \"How many La Liga titles has Real Madrid won?\",\\n        \"options\": {\\n            \"a\": \"20\",\\n            \"b\": \"30\",\\n            \"c\": \"36\",\\n            \"d\": \"40\"\\n        },\\n        \"correct\": \"c\"\\n    },\\n    \"5\": {\\n        \"mcq\": \"Which anthem is associated with Real Madrid?\",\\n        \"options\": {\\n            \"a\": \"We Will Rock You\",\\n            \"b\": \"Hala Madrid y nada más\",\\n            \"c\": \"Eye of the Tiger\",\\n            \"d\": \"Livin\\' on a Prayer\"\\n        },\\n        \"correct\": \"b\"\\n    }\\n}',\n",
       " 'review': \"The quiz on Real Madrid is suitable for students with basic knowledge of the football club. The questions are straightforward and test basic facts about the team's history, stadium, and achievements. It is a good way to engage students in learning about sports.\"}"
      ]
     },
     "execution_count": 18,
     "metadata": {},
     "output_type": "execute_result"
    }
   ],
   "source": [
    "response"
   ]
  },
  {
   "cell_type": "code",
   "execution_count": 19,
   "metadata": {},
   "outputs": [
    {
     "name": "stdout",
     "output_type": "stream",
     "text": [
      "The quiz on Real Madrid is suitable for students with basic knowledge of the football club. The questions are straightforward and test basic facts about the team's history, stadium, and achievements. It is a good way to engage students in learning about sports.\n"
     ]
    }
   ],
   "source": [
    "print(response.get('review'))"
   ]
  },
  {
   "cell_type": "code",
   "execution_count": 20,
   "metadata": {},
   "outputs": [
    {
     "name": "stdout",
     "output_type": "stream",
     "text": [
      "{\n",
      "    \"1\": {\n",
      "        \"mcq\": \"When was Real Madrid Club de Fútbol founded?\",\n",
      "        \"options\": {\n",
      "            \"a\": \"1900\",\n",
      "            \"b\": \"1902\",\n",
      "            \"c\": \"1920\",\n",
      "            \"d\": \"1947\"\n",
      "        },\n",
      "        \"correct\": \"b\"\n",
      "    },\n",
      "    \"2\": {\n",
      "        \"mcq\": \"What is the meaning of the honorific title 'real' in Real Madrid?\",\n",
      "        \"options\": {\n",
      "            \"a\": \"Royal\",\n",
      "            \"b\": \"Great\",\n",
      "            \"c\": \"Strong\",\n",
      "            \"d\": \"Fast\"\n",
      "        },\n",
      "        \"correct\": \"a\"\n",
      "    },\n",
      "    \"3\": {\n",
      "        \"mcq\": \"Where does Real Madrid play their home matches?\",\n",
      "        \"options\": {\n",
      "            \"a\": \"Camp Nou\",\n",
      "            \"b\": \"Santiago Bernabéu\",\n",
      "            \"c\": \"Wembley Stadium\",\n",
      "            \"d\": \"Old Trafford\"\n",
      "        },\n",
      "        \"correct\": \"b\"\n",
      "    },\n",
      "    \"4\": {\n",
      "        \"mcq\": \"How many La Liga titles has Real Madrid won?\",\n",
      "        \"options\": {\n",
      "            \"a\": \"20\",\n",
      "            \"b\": \"30\",\n",
      "            \"c\": \"36\",\n",
      "            \"d\": \"40\"\n",
      "        },\n",
      "        \"correct\": \"c\"\n",
      "    },\n",
      "    \"5\": {\n",
      "        \"mcq\": \"Which anthem is associated with Real Madrid?\",\n",
      "        \"options\": {\n",
      "            \"a\": \"We Will Rock You\",\n",
      "            \"b\": \"Hala Madrid y nada más\",\n",
      "            \"c\": \"Eye of the Tiger\",\n",
      "            \"d\": \"Livin' on a Prayer\"\n",
      "        },\n",
      "        \"correct\": \"b\"\n",
      "    }\n",
      "}\n"
     ]
    }
   ],
   "source": [
    "print(response.get('quiz'))"
   ]
  }
 ],
 "metadata": {
  "kernelspec": {
   "display_name": "Python 3",
   "language": "python",
   "name": "python3"
  },
  "language_info": {
   "codemirror_mode": {
    "name": "ipython",
    "version": 3
   },
   "file_extension": ".py",
   "mimetype": "text/x-python",
   "name": "python",
   "nbconvert_exporter": "python",
   "pygments_lexer": "ipython3",
   "version": "3.8.19"
  }
 },
 "nbformat": 4,
 "nbformat_minor": 2
}
